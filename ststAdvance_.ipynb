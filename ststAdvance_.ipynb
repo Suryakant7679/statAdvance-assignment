{
 "cells": [
  {
   "cell_type": "markdown",
   "id": "61302e7e-8c21-460f-a625-f74082619e5f",
   "metadata": {},
   "source": [
    "Q1. What is the Probability density function?"
   ]
  },
  {
   "cell_type": "markdown",
   "id": "0d2aaba1-84ce-4018-823d-458f2f83d4b0",
   "metadata": {},
   "source": [
    "Anws:- Probability density function is a measurement of how often investment returns fall within a specified range. PDFs are typically depicted on a graph, with a normal bell curve indicating neutral market risk, and a skewed curve at either end indicating greater or lesser risk-reward."
   ]
  },
  {
   "cell_type": "markdown",
   "id": "ac744e61-df5b-4e32-a3f2-8d2a334ff8ed",
   "metadata": {},
   "source": [
    "Q2. What are the types of Probability distribution?"
   ]
  },
  {
   "cell_type": "markdown",
   "id": "a56740cf-7353-491b-a467-8eb8d270fd91",
   "metadata": {},
   "source": [
    "Ans:- Common probability distributions include the binomial distribution, Poisson distribution, and uniform distribution"
   ]
  },
  {
   "cell_type": "markdown",
   "id": "a2f74de6-c910-4863-9ea2-04d29384da83",
   "metadata": {},
   "source": [
    "Q3. Write a Python function to calculate the probability density function of a normal distribution with\n",
    "given mean and standard deviation at a given point."
   ]
  },
  {
   "cell_type": "markdown",
   "id": "b94ba150-2912-4bf1-9be7-2c4ce0d316ac",
   "metadata": {},
   "source": [
    "ANS:-We will use scipy.stats.norm.pdf() method to calculate the probability distribution for a number x."
   ]
  },
  {
   "cell_type": "markdown",
   "id": "7c451600-6f34-4679-aa37-fbc09bb13b55",
   "metadata": {},
   "source": [
    "Syntax:\n",
    "pip install scipy\n",
    "\n",
    "from scipy.stat import norm\n",
    "\n",
    "scipy.stats.norm.pdf(x, loc=None, scale=None)\n",
    "\n",
    "Parameter:\n",
    "\n",
    "x : array-like object, for which probability is to be calculated.\n",
    "\n",
    "loc : optional (default=0), represents mean of the distribution.\n",
    "\n",
    "scale : optional (default=1), represents standard deviation of the distribution.\n",
    "\n",
    "Returns: A probability density function calculated at x as a ndarray object."
   ]
  },
  {
   "cell_type": "markdown",
   "id": "a96c42f9-3d22-42ee-9efb-1acf26df04f0",
   "metadata": {},
   "source": [
    "Q4. What are the properties of Binomial distribution? Give two examples of events where binomial\n",
    "distribution can be applied."
   ]
  },
  {
   "cell_type": "markdown",
   "id": "9dbb4825-7fe7-407b-9cd1-2a4e5ef4c606",
   "metadata": {},
   "source": [
    "Ans:- Binomial distribution is applicable when the trials are independent and each trial has just two outcomes success and failure.\n",
    "\n",
    "It is applied in coin tossing experiments, sampling inspection plan, genetic experiments and so on.\n",
    "\n",
    "It is also applicable in deciding the outcomes where probability of occurance in 50% each"
   ]
  },
  {
   "cell_type": "markdown",
   "id": "cab51497-6730-416c-b364-68b853818305",
   "metadata": {},
   "source": [
    "Q5. Generate a random sample of size 1000 from a binomial distribution with probability of success 0.4\n",
    "and plot a histogram of the results using matplotlib."
   ]
  },
  {
   "cell_type": "code",
   "execution_count": 4,
   "id": "d9dfc84f-72a1-4c8a-9b2e-9eb55bc5354a",
   "metadata": {},
   "outputs": [],
   "source": [
    "import numpy as np"
   ]
  },
  {
   "cell_type": "code",
   "execution_count": 5,
   "id": "a47597a0-0d6d-42a0-af5b-a49bd82fe36f",
   "metadata": {},
   "outputs": [],
   "source": [
    "n, p = 10, .5"
   ]
  },
  {
   "cell_type": "code",
   "execution_count": 6,
   "id": "514674d7-b5c9-4263-abcf-2ff73d8b08b9",
   "metadata": {},
   "outputs": [],
   "source": [
    "s = np.random.binomial(n ,p,1000)"
   ]
  },
  {
   "cell_type": "code",
   "execution_count": 7,
   "id": "33a3ac26-cda1-41cc-bd10-c0fa8c90a462",
   "metadata": {},
   "outputs": [
    {
     "data": {
      "text/plain": [
       "array([ 5,  4,  6,  3,  4,  6,  7,  5,  3,  6,  7,  5,  6,  3,  4,  7,  3,\n",
       "        3,  2,  4,  3,  8,  5,  4,  8,  6,  6,  6,  5,  2,  2,  5,  5,  7,\n",
       "        5,  4,  5,  8,  5,  7,  7,  7,  4,  5,  5,  5,  5,  7,  4,  3,  5,\n",
       "        6,  4,  4,  5,  5,  5,  4,  4,  7,  5,  5,  5,  8,  6,  3,  4,  3,\n",
       "        6,  5,  4,  3,  4,  3,  5,  4,  3,  6,  5,  5,  4,  5,  4,  3,  5,\n",
       "        8,  9,  6,  7,  5,  7,  6,  6,  4,  7,  8,  6,  3,  2,  5,  5,  6,\n",
       "        5,  8,  5,  4,  6,  6,  5,  6,  3,  8,  6,  5,  5,  5,  3,  5,  5,\n",
       "        6,  6,  5,  3,  8,  7,  8,  4,  6,  5,  6,  4,  4,  6,  7,  7,  4,\n",
       "        5,  6,  7,  4,  5,  4,  5,  9,  4,  4,  6,  4,  2,  6,  6,  6,  4,\n",
       "        7,  4,  7,  6,  4,  7,  7,  6,  6,  5,  6,  4,  4,  6,  3,  7,  9,\n",
       "        7,  4,  5,  5,  4,  5,  4,  5,  5,  4,  6,  3,  4,  3,  5,  8,  5,\n",
       "        5,  7,  4,  4,  5,  4,  3,  6,  4,  5,  8,  4,  4,  5,  7,  4,  8,\n",
       "        5,  3,  3,  7,  4,  3,  7,  4,  7,  6,  3,  4,  7,  6,  4,  7,  5,\n",
       "        3,  4,  6,  8,  7,  7,  3,  5,  7,  6,  6,  8,  6,  5,  4,  6,  5,\n",
       "        6,  2,  6,  5,  1,  7,  3,  6,  6,  4,  5,  2,  3,  5,  5,  4,  7,\n",
       "        6,  7,  5,  6,  6,  7,  3,  6,  4,  3,  5,  8,  6,  4,  8,  5,  3,\n",
       "        3,  6,  3,  5,  5,  8,  4,  5,  6,  6,  4,  6,  4,  9,  8,  6,  5,\n",
       "        2,  6,  5,  4,  5,  4,  7,  5,  6,  5,  5,  7,  5,  5,  5,  4,  6,\n",
       "        6,  7,  3,  8,  7,  3,  6,  3,  4,  4,  4,  5,  5,  5,  6,  5,  6,\n",
       "        2,  6,  3,  7,  5,  5,  4,  1,  6,  6,  5,  4,  5,  7,  8,  4,  3,\n",
       "        6,  5,  3,  3,  4,  3,  4,  6,  3,  5,  4,  4,  5,  3,  6,  4,  6,\n",
       "        4,  6,  5,  4,  5,  7,  7,  3,  6,  3,  5,  6,  5,  5,  6,  3,  4,\n",
       "        4,  4,  6,  4,  6,  5,  3,  6,  4,  3,  6,  7,  8,  6,  7,  6,  3,\n",
       "        5,  6,  4,  6,  4,  4,  8,  7,  5,  4,  3,  4,  5,  3,  6,  5,  4,\n",
       "        2,  5,  7,  4,  6,  4,  5,  5,  3,  5,  5,  2,  7,  5,  7,  5,  5,\n",
       "        3,  6,  5,  6,  8,  3,  6,  5,  7,  6,  6,  3,  6,  5,  6,  5,  5,\n",
       "        4,  7,  5,  5,  6,  4,  3,  3,  3,  3,  1,  5,  8,  7,  3,  5,  4,\n",
       "        4,  4,  4,  5,  7,  7,  9,  4,  4,  3,  4,  6,  5,  6,  3,  4,  3,\n",
       "        3,  3,  5,  4,  4,  6,  5,  6,  4,  5,  5,  4,  4,  2,  2,  4,  6,\n",
       "        5,  5,  5,  6,  5,  6,  5,  7,  6,  3,  5,  4,  3, 10,  6,  7,  7,\n",
       "        5,  2,  6,  4,  3,  5,  3,  5,  3,  2,  5,  5,  6,  4,  7,  6,  3,\n",
       "        4,  2,  5,  4,  4,  4,  7,  6,  5,  5,  5,  3,  4,  3,  6,  6,  7,\n",
       "        2,  4,  7,  3,  5,  6,  4,  7,  3,  6,  6,  3,  5,  2,  2,  1,  4,\n",
       "        5,  3,  6,  4,  3,  5,  4,  6,  3,  8,  5,  6,  4,  6,  6,  7,  3,\n",
       "        7,  5,  4,  5,  2,  3,  3,  7,  4,  3,  7,  4,  5,  6,  1,  6,  5,\n",
       "        4,  5,  5,  5,  6,  4,  5,  7,  4,  3,  4,  4,  2,  5,  5,  3,  3,\n",
       "        7,  5,  7,  6,  5,  7,  5,  5,  6,  3,  3,  5,  4,  5,  6,  5,  5,\n",
       "        6,  4,  7,  4,  6,  3,  7,  5,  6,  4,  3,  5,  5,  6,  5,  7,  6,\n",
       "        4,  7,  4,  5,  3,  5,  5,  4,  4,  5,  5,  5,  4,  4,  5,  4,  8,\n",
       "        5,  6,  7,  5,  3,  5,  6,  6,  6,  3,  4,  4,  6,  5,  4,  9,  4,\n",
       "        7,  7,  5,  5,  6,  6,  5,  7,  6,  6,  4,  4,  2,  5,  5,  7,  7,\n",
       "        6,  4,  2,  5,  4,  4,  6,  3,  3,  4,  4,  5,  4,  6,  7,  4,  4,\n",
       "        9,  7,  4,  3,  3,  3,  6,  5,  5,  6,  7,  3,  5,  5,  6,  6,  4,\n",
       "        6,  5,  6,  2,  4,  3,  6,  7,  6,  4,  6,  5,  4,  5,  6,  6,  5,\n",
       "        1,  4,  7,  4,  6,  3,  4,  4,  4,  4,  7,  5,  6,  4,  6,  4,  3,\n",
       "        7,  4,  6,  3,  4,  9,  4,  4,  4,  8,  3,  3,  6,  6,  3,  7,  7,\n",
       "        6,  6,  5,  4,  2,  5,  4,  8,  5,  4,  5,  7,  5,  3,  4,  4,  7,\n",
       "        4,  7,  3,  5,  6,  5,  4,  5,  6,  6,  6,  6,  4,  8,  8,  4,  7,\n",
       "        7,  5,  4,  4,  5,  4,  4,  6,  4,  3,  4,  5,  3,  3,  4,  5,  4,\n",
       "        6,  4,  3,  3,  5,  5,  4,  6,  5,  4,  5,  6,  5,  8,  4,  5,  5,\n",
       "        4,  5,  5,  3,  5,  4,  3,  4,  4,  5,  5,  4,  9,  1,  3,  5,  4,\n",
       "        2,  6,  4,  7,  5,  8,  4,  6,  6,  7,  5,  5,  5,  3,  6,  6,  6,\n",
       "        5,  3,  7,  5,  7,  6,  5,  7,  7,  4,  6,  6,  5,  4,  6,  4,  5,\n",
       "        4,  6,  5,  6,  4,  3,  5,  3,  5,  5,  4,  4,  5,  3,  6,  5,  4,\n",
       "        6,  4,  8,  6,  4,  5,  7,  9,  6,  5,  3,  6,  6,  5,  5,  3,  2,\n",
       "        6,  9,  2,  2,  3,  5,  5,  4,  6,  6,  7,  5,  7,  4,  5,  5,  5,\n",
       "        3,  6,  5,  7,  7,  6,  4,  5,  5,  6,  4,  2,  6,  4,  9,  5,  5,\n",
       "        3,  5,  6,  3,  2,  3,  6,  3,  5,  3,  7,  5,  5,  6,  5,  4,  3,\n",
       "        7,  6,  6,  5,  6,  4,  6,  4,  3,  8,  4,  4,  5,  8])"
      ]
     },
     "execution_count": 7,
     "metadata": {},
     "output_type": "execute_result"
    }
   ],
   "source": [
    "s"
   ]
  },
  {
   "cell_type": "code",
   "execution_count": 8,
   "id": "4331a0da-bd81-400c-b702-9888f047207f",
   "metadata": {},
   "outputs": [],
   "source": [
    "import matplotlib.pyplot as plt"
   ]
  },
  {
   "cell_type": "code",
   "execution_count": 9,
   "id": "b7355edc-f757-4c3f-9eb7-8eaf84c59aa9",
   "metadata": {},
   "outputs": [
    {
     "data": {
      "text/plain": [
       "(array([  7.,  31., 133., 218., 254., 200., 108.,  36.,  12.,   1.]),\n",
       " array([ 1. ,  1.9,  2.8,  3.7,  4.6,  5.5,  6.4,  7.3,  8.2,  9.1, 10. ]),\n",
       " <BarContainer object of 10 artists>)"
      ]
     },
     "execution_count": 9,
     "metadata": {},
     "output_type": "execute_result"
    },
    {
     "data": {
      "image/png": "[encoded data removed]",
      "text/plain": [
       "<Figure size 640x480 with 1 Axes>"
      ]
     },
     "metadata": {},
     "output_type": "display_data"
    }
   ],
   "source": [
    "plt.hist(s)"
   ]
  },
  {
   "cell_type": "markdown",
   "id": "b3be246b-1075-4af4-b00b-c6220f18798f",
   "metadata": {},
   "source": [
    "Q6. Write a Python function to calculate the cumulative distribution function of a Poisson distribution\n",
    "with given mean at a given point."
   ]
  },
  {
   "cell_type": "code",
   "execution_count": 12,
   "id": "ea2e3b2d-3938-4205-8c3e-2f69a66019f6",
   "metadata": {},
   "outputs": [],
   "source": [
    "import numpy as np\n",
    "import scipy\n",
    "import matplotlib.pyplot as plt\n",
    "import scipy as spy"
   ]
  },
  {
   "cell_type": "code",
   "execution_count": 17,
   "id": "081a331c-099d-4eed-836d-5c24b8e30a34",
   "metadata": {},
   "outputs": [],
   "source": [
    "rand_num=np.random.poisson(5,1000)"
   ]
  },
  {
   "cell_type": "code",
   "execution_count": 18,
   "id": "23bf3c13-711f-4fbb-a33e-d918f69e66be",
   "metadata": {},
   "outputs": [
    {
     "data": {
      "text/plain": [
       "array([ 6,  3,  3,  2,  1,  3,  5,  7,  4,  4,  8,  9,  5,  5,  3,  6,  7,\n",
       "        5,  7,  5,  8,  5,  6,  6,  7,  6,  2,  5,  2,  3,  5,  5,  6,  2,\n",
       "        3,  3,  5,  5,  9,  4,  4,  6,  6,  5,  4,  2,  5,  5,  7,  7,  5,\n",
       "        4,  4,  8,  5,  3,  6,  7,  9,  2,  7,  5,  5,  2,  6,  3,  4,  5,\n",
       "        5,  5,  6,  5,  7,  6,  5,  4,  5,  5,  6,  6,  2,  7,  6,  5,  7,\n",
       "        4,  5,  3,  5,  4,  8,  4,  5,  3,  5,  4,  5,  4,  8,  4,  3,  7,\n",
       "        3,  6,  4,  5,  5, 10,  3,  4,  4,  7,  5,  1,  5,  3,  6,  9,  4,\n",
       "        8,  9,  3,  9,  5,  1,  7,  7,  4,  5,  5,  5,  5,  5,  5,  2,  1,\n",
       "       10,  2, 12,  4,  4,  5,  3,  7,  5,  8,  5,  5,  4,  6,  2,  3,  5,\n",
       "        5,  7,  2,  5,  5,  6,  6,  4,  5,  5,  7,  7,  1,  5,  4,  2,  2,\n",
       "        5,  3,  4,  4,  5,  3,  5,  5,  6,  3,  5,  7,  5,  7,  4,  6,  4,\n",
       "        1,  5,  7,  3, 13,  5,  6,  7,  3,  7,  4,  5,  7,  4,  6,  3,  7,\n",
       "        3,  6,  2,  5,  3,  3,  9,  4, 12,  7,  6,  5,  3,  4,  7,  1,  5,\n",
       "        3,  6,  6,  8,  6,  4,  7,  6,  9,  5,  2,  6,  4,  3,  3,  3,  8,\n",
       "        3,  3,  4,  6,  3,  6,  4,  5,  2,  2,  4,  8,  1,  4, 11,  8,  6,\n",
       "        6,  4,  6,  4,  6,  5,  4,  4, 10,  5,  4,  9,  1,  1,  3,  3,  5,\n",
       "        8,  3,  3,  9,  2,  5,  8,  3,  3,  8,  6,  7,  4,  4,  6,  3,  3,\n",
       "        2,  8,  7,  8,  2,  3,  5,  5, 11,  3,  7,  3,  3,  9,  9,  6,  7,\n",
       "        5,  7,  4,  5,  4,  2,  6,  4,  7,  8,  4,  8,  8,  1, 11,  7,  4,\n",
       "        4,  3,  0,  6,  4,  5,  5,  5,  2,  2,  0,  6,  7,  5, 11,  5,  5,\n",
       "        4,  8,  4,  2,  7,  2,  2,  9,  3,  3,  8,  5,  1,  4,  5,  8,  7,\n",
       "        1,  6,  6,  5,  3,  4,  5,  6,  6,  4,  7,  8,  8,  4,  7,  4,  5,\n",
       "        7,  4,  2,  3,  5,  3,  4,  4,  4,  7,  6,  7,  2,  3,  6,  6, 10,\n",
       "        3,  6,  4, 11,  3,  5,  5,  7,  5,  6,  3,  3,  4,  4,  4,  6,  6,\n",
       "        7,  6,  6,  8,  6,  6,  6,  3,  7,  2,  2,  7,  4,  5,  7,  4,  4,\n",
       "        7,  4,  9,  7,  7,  3,  4,  8,  4,  3,  6,  6,  5,  7,  4, 10,  6,\n",
       "        5,  4,  9,  5,  9,  5,  4,  4,  4, 12,  1,  8,  7,  8,  8,  4,  2,\n",
       "        3,  4,  4,  5,  9,  6,  4,  4,  3,  8,  2,  5,  8,  2,  2,  5,  3,\n",
       "        8,  7, 10,  5,  7,  4,  3,  5,  6,  4,  3,  5,  2,  7,  9,  5,  4,\n",
       "        5,  7,  5,  3,  3,  5,  3,  8,  1,  8,  4,  4,  6,  8,  7,  7,  4,\n",
       "        5,  7,  7,  5,  1,  5,  7,  8,  3,  4,  4,  4,  6,  8,  5,  1,  1,\n",
       "        3,  6,  8,  6,  8,  4,  8,  6,  5, 11,  6,  6,  8,  4,  8,  3,  5,\n",
       "        4,  5,  5,  4,  5,  7,  4,  4,  4,  8,  3,  6,  6,  4,  5,  4,  7,\n",
       "        3,  6,  8,  3,  3,  7,  4,  3,  7,  9,  3, 10,  7,  4,  3,  4,  1,\n",
       "        1,  8,  5,  2,  4,  6,  3,  3,  5, 10,  3,  4,  7,  6,  7,  5,  8,\n",
       "        6,  2,  3,  5,  7,  5,  3,  2,  4,  4,  6,  7,  3,  4,  5,  3,  9,\n",
       "        2,  4,  3,  4,  6,  6,  9,  5,  4,  5,  4,  8,  3,  3,  5,  8,  4,\n",
       "        5,  3,  4,  5,  1,  9,  2,  6,  3,  4,  3,  7,  5, 11,  4,  2,  5,\n",
       "        5,  2,  8,  7,  5,  4,  5,  2,  4,  3,  6,  5,  9,  1,  5,  4,  6,\n",
       "        7,  5, 12,  4,  5,  7,  8,  5,  3,  4,  2, 11,  4,  4,  6,  6,  4,\n",
       "        7,  6,  5,  6,  3,  8,  9,  6,  1,  5,  2,  6,  9,  9,  3,  3,  3,\n",
       "        7,  2,  3,  6,  5,  6,  6,  7,  6,  2,  0,  4,  3,  7,  3,  5,  6,\n",
       "        7,  5,  3,  2,  6,  7,  8,  7,  8, 12,  8,  7,  3,  4,  3,  3,  5,\n",
       "        5,  7,  6,  6,  3, 10,  7,  5,  7,  4,  3,  4,  7,  5,  6,  1,  8,\n",
       "        5,  3,  5,  4,  8,  3,  6,  7,  5, 10,  5,  9,  6,  6,  6,  3,  5,\n",
       "        3,  5,  3,  2,  8,  3,  5,  5,  8,  7,  3,  6,  8,  9,  8,  9,  6,\n",
       "       13,  2,  5,  3,  7,  4,  4,  5,  1,  4,  6,  4,  5,  5,  5,  4,  2,\n",
       "        5,  8,  3,  8,  2,  6,  6,  8,  7,  4, 11,  3,  6,  7,  5,  7,  1,\n",
       "        2,  4,  6,  7,  7,  7,  5,  1,  8,  4, 10,  6,  3,  7,  4, 10,  2,\n",
       "        7,  5,  5,  1,  7,  4,  4,  2,  6,  4,  9,  4,  6,  6,  2,  3,  9,\n",
       "        4,  3,  6,  7,  4,  3,  4,  7,  5,  6,  3,  6,  1, 11,  5,  6,  5,\n",
       "        4,  2,  3,  5,  5,  1,  4,  6,  6,  3,  4,  4,  7,  9,  4,  2,  5,\n",
       "        4,  2,  4,  7,  4,  6,  4,  9, 10,  9,  2,  8, 10,  5,  8,  5,  6,\n",
       "        8,  8,  2,  7,  3,  2,  4,  7,  5,  6,  6,  6,  5,  7,  9,  1,  3,\n",
       "        7,  6,  4,  7,  5,  3,  5,  4,  3,  7,  4,  5,  2,  6,  6,  5,  4,\n",
       "        4,  3,  4,  7,  4,  3,  6,  1,  9,  6,  7,  3,  3,  6,  6,  3,  8,\n",
       "        5,  9,  5,  5,  5,  4,  5, 12,  6,  7,  4,  7,  6,  5,  5,  2,  4,\n",
       "        5,  5,  2,  5,  5,  7,  4,  4,  5,  5,  7,  1,  5,  7,  2,  1,  4,\n",
       "        5,  3,  4,  8,  5,  5,  7,  3,  7,  2,  6,  6,  7,  2])"
      ]
     },
     "execution_count": 18,
     "metadata": {},
     "output_type": "execute_result"
    }
   ],
   "source": [
    "rand_num"
   ]
  },
  {
   "cell_type": "code",
   "execution_count": 23,
   "id": "852a1f91-e8c7-473d-b42f-3a1e4d985d8c",
   "metadata": {},
   "outputs": [
    {
     "data": {
      "text/plain": [
       "array([0.99999971, 1.        , 0.97724987, 1.        , 1.        ,\n",
       "       0.99996833, 0.99999971, 0.97724987, 1.        , 1.        ,\n",
       "       0.99999971, 0.99999971, 1.        , 1.        , 0.84134475,\n",
       "       0.99999971, 1.        , 1.        , 0.99999971, 0.99999971,\n",
       "       0.99996833, 0.99996833, 0.97724987, 0.97724987, 0.9986501 ,\n",
       "       1.        , 0.99999971, 0.99996833, 0.97724987, 0.9986501 ,\n",
       "       1.        , 0.9986501 , 0.99996833, 0.84134475, 0.99999971,\n",
       "       1.        , 0.9986501 , 0.9986501 , 1.        , 0.9986501 ,\n",
       "       0.97724987, 0.99999971, 0.99996833, 1.        , 0.99999971,\n",
       "       0.99999971, 0.9986501 , 1.        , 1.        , 0.99999971,\n",
       "       1.        , 0.84134475, 0.99996833, 1.        , 1.        ,\n",
       "       0.99996833, 0.99999971, 0.97724987, 0.99996833, 1.        ,\n",
       "       0.99996833, 0.99999971, 1.        , 0.84134475, 1.        ,\n",
       "       0.99996833, 1.        , 1.        , 0.99999971, 0.99999971,\n",
       "       0.99999971, 0.9986501 , 0.99999971, 1.        , 0.9986501 ,\n",
       "       0.99999971, 0.99999971, 1.        , 0.97724987, 0.99999971,\n",
       "       1.        , 0.99996833, 0.9986501 , 1.        , 1.        ,\n",
       "       0.99999971, 0.99999971, 1.        , 0.99996833, 0.97724987,\n",
       "       0.9986501 , 1.        , 1.        , 1.        , 0.9986501 ,\n",
       "       1.        , 0.9986501 , 0.9986501 , 1.        , 1.        ,\n",
       "       0.99996833, 0.99999971, 1.        , 0.99996833, 0.99996833,\n",
       "       0.99999971, 0.5       , 0.9986501 , 1.        , 1.        ,\n",
       "       1.        , 0.99996833, 1.        , 1.        , 0.9986501 ,\n",
       "       0.97724987, 0.97724987, 1.        , 0.9986501 , 1.        ,\n",
       "       1.        , 1.        , 1.        , 0.99996833, 0.99996833,\n",
       "       0.9986501 , 0.99999971, 0.99999971, 1.        , 1.        ,\n",
       "       1.        , 1.        , 0.99996833, 0.99996833, 1.        ,\n",
       "       1.        , 1.        , 1.        , 0.9986501 , 1.        ,\n",
       "       0.99996833, 0.99999971, 0.5       , 1.        , 1.        ,\n",
       "       1.        , 0.99999971, 0.9986501 , 0.97724987, 1.        ,\n",
       "       0.99996833, 1.        , 1.        , 0.9986501 , 1.        ,\n",
       "       0.5       , 1.        , 0.9986501 , 0.9986501 , 0.84134475,\n",
       "       0.99996833, 0.99996833, 1.        , 1.        , 1.        ,\n",
       "       0.99996833, 0.5       , 1.        , 1.        , 1.        ,\n",
       "       0.97724987, 0.99996833, 1.        , 1.        , 1.        ,\n",
       "       0.99999971, 1.        , 0.99999971, 0.99999971, 1.        ,\n",
       "       0.99999971, 0.84134475, 0.9986501 , 1.        , 0.99996833,\n",
       "       0.99996833, 0.99996833, 1.        , 0.97724987, 1.        ,\n",
       "       0.99999971, 0.99996833, 0.9986501 , 0.99999971, 0.99996833,\n",
       "       1.        , 0.9986501 , 1.        , 0.97724987, 0.99999971,\n",
       "       1.        , 0.99996833, 1.        , 1.        , 1.        ,\n",
       "       0.9986501 , 1.        , 0.99999971, 0.97724987, 0.9986501 ,\n",
       "       0.99996833, 0.99996833, 1.        , 1.        , 1.        ,\n",
       "       1.        , 0.99996833, 0.5       , 1.        , 1.        ,\n",
       "       0.99996833, 1.        , 1.        , 0.99999971, 1.        ,\n",
       "       0.99999971, 1.        , 1.        , 1.        , 0.97724987,\n",
       "       1.        , 0.99999971, 0.97724987, 0.9986501 , 0.99996833,\n",
       "       0.99996833, 0.99999971, 1.        , 0.99999971, 1.        ,\n",
       "       0.99999971, 1.        , 1.        , 1.        , 1.        ,\n",
       "       0.99996833, 1.        , 1.        , 1.        , 1.        ,\n",
       "       1.        , 0.99999971, 0.99999971, 0.97724987, 0.97724987,\n",
       "       0.99999971, 1.        , 1.        , 1.        , 1.        ,\n",
       "       1.        , 0.97724987, 0.9986501 , 1.        , 0.97724987,\n",
       "       1.        , 0.99996833, 0.97724987, 1.        , 0.99996833,\n",
       "       1.        , 0.99996833, 1.        , 1.        , 1.        ,\n",
       "       0.99996833, 0.99996833, 1.        , 1.        , 0.99996833,\n",
       "       0.97724987, 0.9986501 , 0.5       , 0.99999971, 0.99999971,\n",
       "       1.        , 1.        , 1.        , 1.        , 0.99999971,\n",
       "       0.99996833, 0.99999971, 1.        , 0.99999971, 1.        ,\n",
       "       0.9986501 , 0.9986501 , 0.9986501 , 0.9986501 , 0.99999971,\n",
       "       0.99996833, 0.99999971, 0.9986501 , 0.97724987, 0.99999971,\n",
       "       0.99999971, 0.99996833, 0.99996833, 0.9986501 , 0.97724987,\n",
       "       0.99996833, 0.99999971, 1.        , 0.99996833, 1.        ,\n",
       "       1.        , 0.99996833, 0.99999971, 0.99996833, 0.99999971,\n",
       "       0.99999971, 1.        , 0.97724987, 1.        , 0.99999971,\n",
       "       1.        , 0.99996833, 0.99996833, 0.99996833, 0.99996833,\n",
       "       0.84134475, 1.        , 1.        , 1.        , 0.9986501 ,\n",
       "       1.        , 0.97724987, 0.99996833, 1.        , 0.9986501 ,\n",
       "       0.97724987, 0.99996833, 1.        , 0.99996833, 1.        ,\n",
       "       0.9986501 , 0.97724987, 0.99999971, 0.99999971, 0.5       ,\n",
       "       0.9986501 , 0.9986501 , 0.9986501 , 0.99999971, 1.        ,\n",
       "       1.        , 0.99996833, 0.99996833, 1.        , 0.9986501 ,\n",
       "       0.99996833, 0.99996833, 0.97724987, 1.        , 0.5       ,\n",
       "       0.97724987, 1.        , 0.9986501 , 0.9986501 , 0.99996833,\n",
       "       1.        , 0.99996833, 0.97724987, 0.99996833, 1.        ,\n",
       "       0.9986501 , 1.        , 0.97724987, 0.99999971, 1.        ,\n",
       "       0.9986501 , 0.99996833, 0.97724987, 0.97724987, 0.97724987,\n",
       "       1.        , 0.99996833, 0.97724987, 0.99999971, 0.9986501 ,\n",
       "       1.        , 0.99996833, 0.99996833, 0.97724987, 0.99999971,\n",
       "       0.84134475, 1.        , 0.99996833, 0.9986501 , 0.99996833,\n",
       "       0.9986501 , 0.9986501 , 0.97724987, 0.99996833, 0.99996833,\n",
       "       1.        , 1.        , 1.        , 0.99996833, 0.97724987,\n",
       "       1.        , 0.9986501 , 0.99999971, 0.99996833, 0.9986501 ,\n",
       "       0.97724987, 1.        , 0.99996833, 0.99996833, 0.99999971,\n",
       "       0.99999971, 0.99999971, 0.9986501 , 1.        , 1.        ,\n",
       "       0.99999971, 0.9986501 , 0.84134475, 0.9986501 , 1.        ,\n",
       "       0.99996833, 1.        , 0.97724987, 0.9986501 , 1.        ,\n",
       "       0.99999971, 0.99999971, 1.        , 0.99999971, 0.99999971,\n",
       "       1.        , 1.        , 0.99999971, 0.9986501 , 0.5       ,\n",
       "       0.99996833, 0.99996833, 0.99999971, 0.99999971, 1.        ,\n",
       "       1.        , 0.99996833, 0.5       , 0.99996833, 1.        ,\n",
       "       0.99996833, 0.99999971, 0.9986501 , 0.9986501 , 0.99996833,\n",
       "       1.        , 0.99996833, 1.        , 0.99999971, 0.99996833,\n",
       "       0.5       , 1.        , 0.99996833, 1.        , 0.84134475,\n",
       "       0.99996833, 0.9986501 , 1.        , 1.        , 1.        ,\n",
       "       1.        , 1.        , 1.        , 1.        , 1.        ,\n",
       "       0.99996833, 0.99999971, 1.        , 0.97724987, 1.        ,\n",
       "       0.99999971, 0.99996833, 1.        , 0.9986501 , 0.9986501 ,\n",
       "       0.99999971, 1.        , 0.84134475, 0.99999971, 0.99996833,\n",
       "       1.        , 0.99999971, 1.        , 1.        , 0.9986501 ,\n",
       "       0.99996833, 1.        , 0.99996833, 1.        , 0.99996833,\n",
       "       0.97724987, 0.97724987, 0.99999971, 0.99999971, 1.        ,\n",
       "       0.99999971, 0.97724987, 1.        , 0.99999971, 0.99996833,\n",
       "       0.9986501 , 1.        , 0.84134475, 0.97724987, 1.        ,\n",
       "       0.99999971, 1.        , 0.99999971, 0.9986501 , 0.99999971,\n",
       "       1.        , 1.        , 0.99999971, 0.9986501 , 1.        ,\n",
       "       0.99999971, 1.        , 1.        , 0.99996833, 0.99996833,\n",
       "       0.99996833, 0.99996833, 0.84134475, 0.97724987, 1.        ,\n",
       "       0.9986501 , 1.        , 0.99996833, 1.        , 0.99996833,\n",
       "       0.97724987, 0.99999971, 0.99999971, 0.9986501 , 0.9986501 ,\n",
       "       1.        , 0.99996833, 1.        , 1.        , 0.97724987,\n",
       "       0.99999971, 0.9986501 , 1.        , 0.99996833, 1.        ,\n",
       "       0.9986501 , 0.97724987, 1.        , 0.99996833, 1.        ,\n",
       "       0.9986501 , 0.84134475, 1.        , 0.99999971, 1.        ,\n",
       "       0.99999971, 1.        , 1.        , 0.84134475, 0.9986501 ,\n",
       "       0.99996833, 1.        , 1.        , 1.        , 0.97724987,\n",
       "       0.99999971, 0.99996833, 1.        , 1.        , 0.9986501 ,\n",
       "       0.99999971, 1.        , 1.        , 1.        , 0.99996833,\n",
       "       0.99996833, 1.        , 0.97724987, 0.99996833, 0.99996833,\n",
       "       0.5       , 0.99996833, 0.99999971, 0.99996833, 1.        ,\n",
       "       0.84134475, 0.97724987, 0.99999971, 1.        , 0.9986501 ,\n",
       "       1.        , 1.        , 1.        , 0.99996833, 1.        ,\n",
       "       0.9986501 , 1.        , 0.99999971, 0.99999971, 0.99996833,\n",
       "       0.99996833, 0.84134475, 1.        , 0.9986501 , 0.99996833,\n",
       "       0.97724987, 0.99996833, 1.        , 0.99996833, 0.97724987,\n",
       "       0.99999971, 1.        , 0.99999971, 0.9986501 , 0.99999971,\n",
       "       0.84134475, 0.99999971, 0.99999971, 0.99999971, 0.97724987,\n",
       "       0.84134475, 0.97724987, 0.99996833, 1.        , 0.99996833,\n",
       "       0.99999971, 0.99999971, 0.99999971, 0.9986501 , 0.97724987,\n",
       "       1.        , 1.        , 1.        , 0.99996833, 1.        ,\n",
       "       0.97724987, 1.        , 0.9986501 , 1.        , 0.97724987,\n",
       "       1.        , 0.99996833, 0.97724987, 1.        , 1.        ,\n",
       "       0.99996833, 1.        , 1.        , 0.84134475, 1.        ,\n",
       "       0.99996833, 0.99999971, 0.99999971, 1.        , 0.99999971,\n",
       "       1.        , 1.        , 0.9986501 , 1.        , 0.99996833,\n",
       "       0.84134475, 0.9986501 , 1.        , 0.99996833, 0.9986501 ,\n",
       "       1.        , 0.99996833, 0.99996833, 0.99996833, 0.99999971,\n",
       "       0.97724987, 1.        , 0.99996833, 1.        , 1.        ,\n",
       "       0.97724987, 1.        , 1.        , 0.99999971, 1.        ,\n",
       "       0.9986501 , 1.        , 1.        , 1.        , 0.9986501 ,\n",
       "       1.        , 0.99999971, 0.97724987, 0.99996833, 0.9986501 ,\n",
       "       0.84134475, 0.99996833, 1.        , 0.9986501 , 1.        ,\n",
       "       0.99999971, 0.99999971, 1.        , 0.99996833, 0.99999971,\n",
       "       0.5       , 1.        , 0.99996833, 0.9986501 , 0.9986501 ,\n",
       "       0.99996833, 0.99999971, 1.        , 1.        , 0.99999971,\n",
       "       1.        , 0.9986501 , 0.99999971, 1.        , 0.99996833,\n",
       "       0.97724987, 0.99999971, 0.99996833, 1.        , 1.        ,\n",
       "       0.99999971, 0.84134475, 0.97724987, 0.99996833, 0.99999971,\n",
       "       0.97724987, 0.99999971, 0.99999971, 1.        , 0.97724987,\n",
       "       0.84134475, 1.        , 0.9986501 , 0.99999971, 1.        ,\n",
       "       0.99999971, 0.99996833, 0.97724987, 0.9986501 , 0.9986501 ,\n",
       "       0.9986501 , 0.9986501 , 0.84134475, 0.99999971, 0.99999971,\n",
       "       1.        , 1.        , 0.97724987, 0.99999971, 0.9986501 ,\n",
       "       0.99999971, 0.99996833, 0.84134475, 1.        , 1.        ,\n",
       "       1.        , 0.97724987, 0.99996833, 0.97724987, 0.99996833,\n",
       "       1.        , 0.99999971, 1.        , 1.        , 0.9986501 ,\n",
       "       0.99996833, 0.99999971, 0.99999971, 0.99999971, 1.        ,\n",
       "       0.9986501 , 0.84134475, 0.97724987, 0.99999971, 0.99996833,\n",
       "       0.99999971, 0.9986501 , 0.9986501 , 1.        , 0.9986501 ,\n",
       "       1.        , 0.9986501 , 1.        , 1.        , 0.97724987,\n",
       "       0.99999971, 0.9986501 , 1.        , 1.        , 0.99999971,\n",
       "       0.5       , 0.97724987, 1.        , 1.        , 1.        ,\n",
       "       0.99996833, 1.        , 1.        , 1.        , 0.99996833,\n",
       "       0.99996833, 0.9986501 , 0.9986501 , 0.9986501 , 0.97724987,\n",
       "       0.9986501 , 1.        , 0.9986501 , 1.        , 0.99996833,\n",
       "       0.9986501 , 1.        , 0.99999971, 1.        , 1.        ,\n",
       "       0.9986501 , 1.        , 1.        , 1.        , 0.99999971,\n",
       "       0.9986501 , 1.        , 0.99996833, 0.99996833, 1.        ,\n",
       "       0.9986501 , 0.99996833, 1.        , 0.99996833, 1.        ,\n",
       "       0.84134475, 0.99996833, 0.9986501 , 1.        , 0.99996833,\n",
       "       0.99996833, 1.        , 1.        , 1.        , 0.97724987,\n",
       "       0.9986501 , 0.99999971, 0.99996833, 1.        , 0.9986501 ,\n",
       "       1.        , 1.        , 0.97724987, 1.        , 0.97724987,\n",
       "       1.        , 1.        , 0.99999971, 1.        , 0.9986501 ,\n",
       "       0.97724987, 1.        , 0.99996833, 1.        , 0.99999971,\n",
       "       1.        , 0.9986501 , 0.9986501 , 0.84134475, 0.99996833,\n",
       "       1.        , 0.99996833, 0.99996833, 1.        , 0.9986501 ,\n",
       "       0.99999971, 0.99996833, 0.99996833, 0.99999971, 1.        ,\n",
       "       0.99996833, 0.9986501 , 1.        , 0.99996833, 1.        ,\n",
       "       0.97724987, 0.9986501 , 0.97724987, 1.        , 0.99999971,\n",
       "       1.        , 1.        , 0.99996833, 0.99996833, 1.        ,\n",
       "       0.97724987, 1.        , 1.        , 0.99996833, 0.99999971,\n",
       "       0.97724987, 0.84134475, 0.99999971, 0.97724987, 0.9986501 ,\n",
       "       0.99996833, 0.99999971, 1.        , 1.        , 0.84134475,\n",
       "       1.        , 0.99996833, 1.        , 1.        , 0.9986501 ,\n",
       "       1.        , 1.        , 0.99999971, 1.        , 0.99999971,\n",
       "       1.        , 0.99999971, 0.99999971, 1.        , 0.97724987,\n",
       "       0.99996833, 0.99999971, 0.99999971, 0.99996833, 0.99999971,\n",
       "       1.        , 0.99996833, 1.        , 1.        , 1.        ,\n",
       "       0.9986501 , 1.        , 0.99996833, 0.9986501 , 0.99999971,\n",
       "       0.99996833, 1.        , 0.9986501 , 1.        , 0.99996833,\n",
       "       0.9986501 , 0.99996833, 1.        , 1.        , 1.        ,\n",
       "       0.84134475, 0.99996833, 0.97724987, 1.        , 1.        ,\n",
       "       0.84134475, 1.        , 0.9986501 , 0.97724987, 0.99996833,\n",
       "       0.99996833, 0.99996833, 1.        , 0.99996833, 0.99999971,\n",
       "       1.        , 0.84134475, 0.99996833, 1.        , 1.        ,\n",
       "       1.        , 0.99999971, 0.84134475, 0.97724987, 1.        ,\n",
       "       0.99996833, 0.9986501 , 1.        , 1.        , 1.        ,\n",
       "       1.        , 0.9986501 , 0.99996833, 0.9986501 , 0.99996833,\n",
       "       1.        , 0.99999971, 0.99996833, 0.97724987, 1.        ])"
      ]
     },
     "execution_count": 23,
     "metadata": {},
     "output_type": "execute_result"
    }
   ],
   "source": [
    "from scipy.stats import norm\n",
    "norm.cdf(rand_num)"
   ]
  },
  {
   "cell_type": "markdown",
   "id": "797f8fc0-c439-4b67-b493-34d068607e38",
   "metadata": {},
   "source": [
    "Q7. How Binomial distribution different from Poisson distribution?"
   ]
  },
  {
   "cell_type": "markdown",
   "id": "a55b3310-cc4a-4f56-b2f3-e002863c24dd",
   "metadata": {},
   "source": [
    "ANS:- Binomial distribution describes the distribution of binary data from a finite sample. Thus it gives the probability of getting r events out of n trials. Poisson distribution describes the distribution of binary data from an infinite sample. Thus it gives the probability of getting r events in a population."
   ]
  },
  {
   "cell_type": "markdown",
   "id": "aa6c3365-6bc1-4355-baa7-b6958b45981d",
   "metadata": {},
   "source": [
    "Q8. Generate a random sample of size 1000 from a Poisson distribution with mean 5 and calculate the\n",
    "sample mean and variance."
   ]
  },
  {
   "cell_type": "code",
   "execution_count": 24,
   "id": "7b265cc5-dd62-4834-a258-c09fb0f0245b",
   "metadata": {},
   "outputs": [],
   "source": [
    "import numpy as np\n",
    "import scipy\n",
    "import matplotlib.pyplot as plt\n",
    "import scipy as spy\n",
    "from scipy.stats import norm"
   ]
  },
  {
   "cell_type": "code",
   "execution_count": 25,
   "id": "4f1ff4c9-5e55-40e0-be51-6080b14650d3",
   "metadata": {},
   "outputs": [],
   "source": [
    "rand_num=np.random.poisson(5,1000)"
   ]
  },
  {
   "cell_type": "code",
   "execution_count": 26,
   "id": "bf06193d-5437-46e8-9c8f-aa56e1956443",
   "metadata": {},
   "outputs": [
    {
     "data": {
      "text/plain": [
       "array([ 6.,  4.,  5.,  6.,  6.,  7.,  1.,  2.,  8.,  3.,  4.,  2.,  4.,\n",
       "        6.,  6.,  8., 11.,  3.,  5.,  2.,  3.,  1.,  7.,  6.,  3.,  6.,\n",
       "        5.,  4.,  6.,  4.,  3.,  9.,  2.,  4.,  6.,  3.,  8., 11.,  5.,\n",
       "        5.,  4.,  3.,  5.,  6.,  4.,  5.,  4., 11.,  5.,  5.,  3.,  3.,\n",
       "        4.,  7.,  2.,  6.,  3.,  4.,  7.,  5.,  3.,  5.,  4.,  6.,  3.,\n",
       "        2.,  5.,  8.,  7., 10.,  4.,  3.,  3.,  6.,  5.,  5.,  5.,  8.,\n",
       "        1.,  6., 10., 14.,  6.,  7.,  3.,  4.,  7.,  4.,  3.,  2.,  6.,\n",
       "        3.,  3.,  2.,  7., 10.,  3.,  7.,  5.,  5.,  7.,  5.,  6.,  7.,\n",
       "        4.,  3.,  5.,  7.,  2.,  7.,  5.,  9.,  1.,  4.,  2.,  2.,  6.,\n",
       "        8.,  7.,  3.,  4.,  3.,  8.,  2.,  2.,  1.,  3.,  8.,  3.,  6.,\n",
       "        3.,  7.,  4.,  7.,  1.,  4.,  5.,  5.,  2.,  5.,  5., 10.,  5.,\n",
       "        5.,  6.,  7.,  3.,  3.,  8.,  5.,  8.,  8.,  3.,  6.,  6.,  3.,\n",
       "        4.,  7.,  4.,  5.,  4.,  6.,  6.,  6.,  3.,  7.,  6.,  5.,  3.,\n",
       "        2.,  7.,  5.,  2.,  4.,  4.,  4.,  5., 10.,  7.,  7.,  4.,  5.,\n",
       "        1.,  6.,  4.,  5.,  7.,  5.,  3.,  4.,  8.,  6.,  6.,  5.,  6.,\n",
       "        1.,  6.,  8.,  7.,  4.,  5.,  4.,  4.,  4.,  5.,  6.,  4.,  5.,\n",
       "        4.,  7.,  7.,  1.,  2.,  7.,  4.,  6.,  6.,  4.,  5.,  4.,  6.,\n",
       "        4.,  8.,  6.,  6.,  5.,  8.,  3.,  3.,  4.,  7.,  5.,  3.,  6.,\n",
       "        5.,  5.,  6.,  5.,  2.,  4.,  6.,  3.,  9.,  3., 11.,  9.,  5.,\n",
       "        8.,  2.,  2.,  4.,  5.,  2.,  6.,  5.,  3.,  4.,  4.,  6.,  3.,\n",
       "        6.,  5.,  6.,  6.,  7.,  5.,  3.,  3.,  2.,  8.,  5.,  8.,  4.,\n",
       "        4.,  6., 10.,  7.,  3.,  7.,  3.,  3.,  1., 12.,  7.,  4.,  5.,\n",
       "        1.,  3.,  4.,  4.,  2.,  4.,  8.,  5.,  4.,  6.,  4.,  9.,  7.,\n",
       "        6.,  6.,  2.,  5.,  2.,  4.,  4.,  5.,  3.,  1.,  7.,  1.,  9.,\n",
       "        4.,  8.,  1.,  7.,  7.,  5.,  2.,  9.,  8.,  8.,  5.,  8.,  2.,\n",
       "        6.,  9.,  4.,  5.,  7.,  6.,  4.,  3.,  8.,  7.,  5.,  5.,  6.,\n",
       "        1.,  4.,  2.,  2.,  6.,  3.,  5.,  5.,  5.,  0.,  7.,  6.,  5.,\n",
       "        5.,  4.,  6.,  3.,  4.,  8.,  1.,  6.,  3.,  5.,  2.,  7.,  0.,\n",
       "        7.,  4.,  3.,  4.,  6.,  5.,  4.,  8.,  4.,  7.,  5.,  6.,  5.,\n",
       "        7.,  7.,  3.,  2.,  8.,  5.,  2.,  4.,  0.,  5., 12.,  7.,  7.,\n",
       "        7.,  8.,  7.,  5.,  6., 10.,  3.,  4.,  6.,  8.,  5.,  2.,  7.,\n",
       "        7.,  2.,  7.,  4.,  3.,  3.,  5.,  7.,  6.,  7.,  2.,  3.,  3.,\n",
       "        7.,  6.,  4.,  9.,  7.,  9.,  5.,  3.,  3.,  6.,  3.,  5.,  4.,\n",
       "        2.,  6.,  5.,  6.,  4.,  5.,  5.,  3.,  1.,  4.,  4.,  3.,  7.,\n",
       "        6.,  3.,  3.,  9.,  5.,  6.,  7.,  5.,  3.,  5.,  8.,  4.,  0.,\n",
       "        4.,  5.,  4.,  2.,  7., 10.,  8.,  9.,  6.,  1., 10.,  5.,  1.,\n",
       "        4.,  8.,  6.,  6.,  5.,  5.,  4.,  3.,  3.,  2.,  4.,  6.,  4.,\n",
       "        4.,  3.,  6.,  4.,  4.,  2.,  4.,  3.,  4.,  6.,  3.,  3.,  7.,\n",
       "        4.,  1.,  7.,  1.,  4.,  9.,  7.,  2.,  7.,  6.,  5.,  4.,  4.,\n",
       "        3.,  2.,  1.,  6.,  3.,  5.,  2.,  7.,  5.,  4.,  4.,  7.,  2.,\n",
       "        4.,  7.,  5.,  4.,  6.,  5., 10.,  6.,  1.,  6.,  7.,  2.,  7.,\n",
       "        9.,  6.,  7.,  6.,  4.,  8.,  3.,  4.,  5.,  2.,  4.,  3.,  2.,\n",
       "        9.,  4.,  4.,  7.,  4.,  4.,  5.,  8.,  3.,  4.,  3.,  4.,  5.,\n",
       "        7.,  6.,  4.,  6.,  3.,  5.,  8.,  3.,  8.,  4.,  7.,  3.,  4.,\n",
       "        7.,  6.,  4.,  2.,  5.,  2.,  8.,  5.,  8.,  0.,  5.,  6.,  5.,\n",
       "        6.,  5.,  3.,  4.,  4.,  6.,  5.,  4.,  1.,  6.,  7.,  5.,  4.,\n",
       "        6.,  7.,  3., 10.,  5.,  7.,  7.,  6.,  6.,  3., 10.,  6.,  7.,\n",
       "        6.,  5.,  4.,  5.,  4.,  6.,  0.,  6.,  6.,  5.,  8.,  3.,  5.,\n",
       "        4.,  5.,  7.,  3.,  5.,  4.,  5.,  8.,  5.,  6.,  3.,  3.,  8.,\n",
       "        5.,  6.,  5.,  1.,  5.,  6.,  3.,  6.,  5.,  2., 11.,  5.,  6.,\n",
       "        3.,  7.,  8.,  7.,  4.,  4.,  1.,  3.,  4.,  6.,  2.,  9.,  2.,\n",
       "       10.,  8.,  6.,  7.,  8.,  4.,  9.,  5.,  2.,  7.,  2.,  7.,  4.,\n",
       "        3.,  4.,  7.,  1.,  8.,  4.,  2., 10.,  1.,  9.,  7.,  4.,  6.,\n",
       "        4.,  3.,  9.,  8.,  4.,  5.,  8.,  6.,  1.,  5.,  3.,  7.,  5.,\n",
       "        4.,  6.,  7.,  3.,  5.,  5.,  9.,  7.,  2.,  4.,  4.,  6.,  3.,\n",
       "        3.,  6.,  4.,  8.,  4., 12.,  8.,  5.,  6.,  6.,  5.,  4.,  7.,\n",
       "        6.,  4.,  5.,  3.,  6.,  7.,  3.,  6.,  6.,  3.,  5.,  8.,  7.,\n",
       "        3.,  7.,  8.,  4.,  4.,  6.,  8.,  5.,  4.,  3.,  8.,  5.,  2.,\n",
       "        5.,  6.,  3.,  8.,  3.,  6.,  3.,  4.,  3.,  3.,  7.,  5.,  5.,\n",
       "        6.,  4.,  5.,  9.,  7.,  8.,  2.,  4.,  0.,  6.,  7.,  4.,  3.,\n",
       "        4.,  8.,  9.,  4.,  4., 10.,  7.,  4.,  7.,  4.,  3.,  2.,  5.,\n",
       "       12.,  4.,  4., 11.,  1.,  6.,  3.,  5.,  6.,  6.,  9.,  6.,  6.,\n",
       "        4.,  2.,  4.,  5.,  4.,  7.,  5.,  4.,  3.,  0.,  2.,  7.,  3.,\n",
       "        7.,  6.,  5.,  4.,  4.,  1.,  8.,  9.,  1.,  8.,  7.,  7.,  5.,\n",
       "        1.,  2.,  4.,  6.,  5.,  5.,  3.,  6.,  9.,  7.,  6.,  4.,  1.,\n",
       "        4.,  9.,  3.,  6.,  3.,  3.,  5.,  1.,  2.,  4.,  4.,  7.,  3.,\n",
       "        6.,  5.,  6.,  4.,  9.,  6.,  5.,  6.,  5.,  9.,  5.,  2.,  6.,\n",
       "        3.,  5.,  4.,  4.,  6.,  1.,  7.,  5.,  2.,  6.,  4.,  6.,  3.,\n",
       "        4.,  6.,  3.,  5.,  9.,  7.,  2.,  0., 11.,  4.,  1.,  6.,  7.,\n",
       "       10.,  5.,  5.,  3.,  9.,  6.,  6.,  2.,  3.,  4.,  7.,  8.,  8.,\n",
       "        7.,  1.,  7.,  3.,  3.,  3.,  4.,  5.,  6.,  4.,  7.,  5.,  5.,\n",
       "        3.,  7.,  2.,  9.,  8.,  7.,  6.,  3.,  8.,  3., 10.,  7.,  5.,\n",
       "        5.,  6.,  7.,  7., 10.,  6.,  8.,  5.,  2.,  3.,  5.,  5.,  5.,\n",
       "        7.,  5.,  3.,  7.,  2.,  6.,  8.,  5.,  4.,  7.,  3.,  2.,  6.,\n",
       "        2.,  5.,  9., 10.,  5.,  6.,  3.,  2.,  6.,  5.,  9.,  1.,  4.,\n",
       "       10.,  8.,  1.,  7.,  4.,  5.,  3.,  3.,  2.,  3.,  2.,  1.,  2.,\n",
       "        7.,  4.,  3.,  5.,  1.,  4.,  7.,  4.,  5.,  7.,  5.,  5.])"
      ]
     },
     "execution_count": 26,
     "metadata": {},
     "output_type": "execute_result"
    }
   ],
   "source": [
    "norm.mean(rand_num)"
   ]
  },
  {
   "cell_type": "code",
   "execution_count": 27,
   "id": "49f743d6-584b-4026-a268-cf1bbf9db3e5",
   "metadata": {},
   "outputs": [
    {
     "data": {
      "text/plain": [
       "array([1., 1., 1., 1., 1., 1., 1., 1., 1., 1., 1., 1., 1., 1., 1., 1., 1.,\n",
       "       1., 1., 1., 1., 1., 1., 1., 1., 1., 1., 1., 1., 1., 1., 1., 1., 1.,\n",
       "       1., 1., 1., 1., 1., 1., 1., 1., 1., 1., 1., 1., 1., 1., 1., 1., 1.,\n",
       "       1., 1., 1., 1., 1., 1., 1., 1., 1., 1., 1., 1., 1., 1., 1., 1., 1.,\n",
       "       1., 1., 1., 1., 1., 1., 1., 1., 1., 1., 1., 1., 1., 1., 1., 1., 1.,\n",
       "       1., 1., 1., 1., 1., 1., 1., 1., 1., 1., 1., 1., 1., 1., 1., 1., 1.,\n",
       "       1., 1., 1., 1., 1., 1., 1., 1., 1., 1., 1., 1., 1., 1., 1., 1., 1.,\n",
       "       1., 1., 1., 1., 1., 1., 1., 1., 1., 1., 1., 1., 1., 1., 1., 1., 1.,\n",
       "       1., 1., 1., 1., 1., 1., 1., 1., 1., 1., 1., 1., 1., 1., 1., 1., 1.,\n",
       "       1., 1., 1., 1., 1., 1., 1., 1., 1., 1., 1., 1., 1., 1., 1., 1., 1.,\n",
       "       1., 1., 1., 1., 1., 1., 1., 1., 1., 1., 1., 1., 1., 1., 1., 1., 1.,\n",
       "       1., 1., 1., 1., 1., 1., 1., 1., 1., 1., 1., 1., 1., 1., 1., 1., 1.,\n",
       "       1., 1., 1., 1., 1., 1., 1., 1., 1., 1., 1., 1., 1., 1., 1., 1., 1.,\n",
       "       1., 1., 1., 1., 1., 1., 1., 1., 1., 1., 1., 1., 1., 1., 1., 1., 1.,\n",
       "       1., 1., 1., 1., 1., 1., 1., 1., 1., 1., 1., 1., 1., 1., 1., 1., 1.,\n",
       "       1., 1., 1., 1., 1., 1., 1., 1., 1., 1., 1., 1., 1., 1., 1., 1., 1.,\n",
       "       1., 1., 1., 1., 1., 1., 1., 1., 1., 1., 1., 1., 1., 1., 1., 1., 1.,\n",
       "       1., 1., 1., 1., 1., 1., 1., 1., 1., 1., 1., 1., 1., 1., 1., 1., 1.,\n",
       "       1., 1., 1., 1., 1., 1., 1., 1., 1., 1., 1., 1., 1., 1., 1., 1., 1.,\n",
       "       1., 1., 1., 1., 1., 1., 1., 1., 1., 1., 1., 1., 1., 1., 1., 1., 1.,\n",
       "       1., 1., 1., 1., 1., 1., 1., 1., 1., 1., 1., 1., 1., 1., 1., 1., 1.,\n",
       "       1., 1., 1., 1., 1., 1., 1., 1., 1., 1., 1., 1., 1., 1., 1., 1., 1.,\n",
       "       1., 1., 1., 1., 1., 1., 1., 1., 1., 1., 1., 1., 1., 1., 1., 1., 1.,\n",
       "       1., 1., 1., 1., 1., 1., 1., 1., 1., 1., 1., 1., 1., 1., 1., 1., 1.,\n",
       "       1., 1., 1., 1., 1., 1., 1., 1., 1., 1., 1., 1., 1., 1., 1., 1., 1.,\n",
       "       1., 1., 1., 1., 1., 1., 1., 1., 1., 1., 1., 1., 1., 1., 1., 1., 1.,\n",
       "       1., 1., 1., 1., 1., 1., 1., 1., 1., 1., 1., 1., 1., 1., 1., 1., 1.,\n",
       "       1., 1., 1., 1., 1., 1., 1., 1., 1., 1., 1., 1., 1., 1., 1., 1., 1.,\n",
       "       1., 1., 1., 1., 1., 1., 1., 1., 1., 1., 1., 1., 1., 1., 1., 1., 1.,\n",
       "       1., 1., 1., 1., 1., 1., 1., 1., 1., 1., 1., 1., 1., 1., 1., 1., 1.,\n",
       "       1., 1., 1., 1., 1., 1., 1., 1., 1., 1., 1., 1., 1., 1., 1., 1., 1.,\n",
       "       1., 1., 1., 1., 1., 1., 1., 1., 1., 1., 1., 1., 1., 1., 1., 1., 1.,\n",
       "       1., 1., 1., 1., 1., 1., 1., 1., 1., 1., 1., 1., 1., 1., 1., 1., 1.,\n",
       "       1., 1., 1., 1., 1., 1., 1., 1., 1., 1., 1., 1., 1., 1., 1., 1., 1.,\n",
       "       1., 1., 1., 1., 1., 1., 1., 1., 1., 1., 1., 1., 1., 1., 1., 1., 1.,\n",
       "       1., 1., 1., 1., 1., 1., 1., 1., 1., 1., 1., 1., 1., 1., 1., 1., 1.,\n",
       "       1., 1., 1., 1., 1., 1., 1., 1., 1., 1., 1., 1., 1., 1., 1., 1., 1.,\n",
       "       1., 1., 1., 1., 1., 1., 1., 1., 1., 1., 1., 1., 1., 1., 1., 1., 1.,\n",
       "       1., 1., 1., 1., 1., 1., 1., 1., 1., 1., 1., 1., 1., 1., 1., 1., 1.,\n",
       "       1., 1., 1., 1., 1., 1., 1., 1., 1., 1., 1., 1., 1., 1., 1., 1., 1.,\n",
       "       1., 1., 1., 1., 1., 1., 1., 1., 1., 1., 1., 1., 1., 1., 1., 1., 1.,\n",
       "       1., 1., 1., 1., 1., 1., 1., 1., 1., 1., 1., 1., 1., 1., 1., 1., 1.,\n",
       "       1., 1., 1., 1., 1., 1., 1., 1., 1., 1., 1., 1., 1., 1., 1., 1., 1.,\n",
       "       1., 1., 1., 1., 1., 1., 1., 1., 1., 1., 1., 1., 1., 1., 1., 1., 1.,\n",
       "       1., 1., 1., 1., 1., 1., 1., 1., 1., 1., 1., 1., 1., 1., 1., 1., 1.,\n",
       "       1., 1., 1., 1., 1., 1., 1., 1., 1., 1., 1., 1., 1., 1., 1., 1., 1.,\n",
       "       1., 1., 1., 1., 1., 1., 1., 1., 1., 1., 1., 1., 1., 1., 1., 1., 1.,\n",
       "       1., 1., 1., 1., 1., 1., 1., 1., 1., 1., 1., 1., 1., 1., 1., 1., 1.,\n",
       "       1., 1., 1., 1., 1., 1., 1., 1., 1., 1., 1., 1., 1., 1., 1., 1., 1.,\n",
       "       1., 1., 1., 1., 1., 1., 1., 1., 1., 1., 1., 1., 1., 1., 1., 1., 1.,\n",
       "       1., 1., 1., 1., 1., 1., 1., 1., 1., 1., 1., 1., 1., 1., 1., 1., 1.,\n",
       "       1., 1., 1., 1., 1., 1., 1., 1., 1., 1., 1., 1., 1., 1., 1., 1., 1.,\n",
       "       1., 1., 1., 1., 1., 1., 1., 1., 1., 1., 1., 1., 1., 1., 1., 1., 1.,\n",
       "       1., 1., 1., 1., 1., 1., 1., 1., 1., 1., 1., 1., 1., 1., 1., 1., 1.,\n",
       "       1., 1., 1., 1., 1., 1., 1., 1., 1., 1., 1., 1., 1., 1., 1., 1., 1.,\n",
       "       1., 1., 1., 1., 1., 1., 1., 1., 1., 1., 1., 1., 1., 1., 1., 1., 1.,\n",
       "       1., 1., 1., 1., 1., 1., 1., 1., 1., 1., 1., 1., 1., 1., 1., 1., 1.,\n",
       "       1., 1., 1., 1., 1., 1., 1., 1., 1., 1., 1., 1., 1., 1., 1., 1., 1.,\n",
       "       1., 1., 1., 1., 1., 1., 1., 1., 1., 1., 1., 1., 1., 1.])"
      ]
     },
     "execution_count": 27,
     "metadata": {},
     "output_type": "execute_result"
    }
   ],
   "source": [
    "norm.var(rand_num)"
   ]
  },
  {
   "cell_type": "markdown",
   "id": "6872a678-37cb-4e35-a979-08fe3bd0a66e",
   "metadata": {},
   "source": [
    "Q9. How mean and variance are related in Binomial distribution and Poisson distribution?"
   ]
  },
  {
   "cell_type": "markdown",
   "id": "7cd21e76-32b9-46aa-8069-fe27897bcb92",
   "metadata": {},
   "source": [
    "Ans:- In a binomial distribution, there are only two possible outcomes, i.e. success or failure. \n",
    "In Poisson distribution , there are an unlimited number of possible outcomes . In binomial distribution Mean > Variance while in poisson distribution mean = variance."
   ]
  },
  {
   "cell_type": "markdown",
   "id": "f2c0f3c8-a317-465e-86f5-7af2a167fd1f",
   "metadata": {},
   "source": [
    "Q10. In normal distribution with respect to mean position, where does the least frequent data appear?"
   ]
  },
  {
   "cell_type": "markdown",
   "id": "a8d3ee63-2fd4-4028-b739-5dfc13284aa2",
   "metadata": {},
   "source": [
    "Ans:- A normal distribution is symmetric from the peak of the curve, where the mean is. This means that most of the observed data is clustered near the mean, while the data become less frequent when farther away from the mean"
   ]
  }
 ],
 "metadata": {
  "kernelspec": {
   "display_name": "Python 3 (ipykernel)",
   "language": "python",
   "name": "python3"
  },
  "language_info": {
   "codemirror_mode": {
    "name": "ipython",
    "version": 3
   },
   "file_extension": ".py",
   "mimetype": "text/x-python",
   "name": "python",
   "nbconvert_exporter": "python",
   "pygments_lexer": "ipython3",
   "version": "3.10.8"
  }
 },
 "nbformat": 4,
 "nbformat_minor": 5
}
